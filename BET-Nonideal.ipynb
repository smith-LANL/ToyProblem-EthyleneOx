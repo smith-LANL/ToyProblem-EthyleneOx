{
 "cells": [
  {
   "cell_type": "code",
   "execution_count": 1,
   "id": "a4b966ee-a0e3-4734-8b87-fcd939bc64bb",
   "metadata": {},
   "outputs": [],
   "source": [
    "\"\"\"\n",
    "One brick in the hierachy for an industrial ethylene-oxide reactor\n",
    "\n",
    "© 2023. Triad National Security, LLC. All rights reserved.\n",
    "This program was produced under U.S. Government contract 89233218CNA000001 for Los Alamos\n",
    "National Laboratory (LANL), which is operated by Triad National Security, LLC for the U.S.\n",
    "Department of Energy/National Nuclear Security Administration. All rights in the program are.\n",
    "reserved by Triad National Security, LLC, and the U.S. Department of Energy/National Nuclear\n",
    "Security Administration. The Government is granted for itself and others acting on its behalf a\n",
    "nonexclusive, paid-up, irrevocable worldwide license in this material to reproduce, prepare.\n",
    "derivative works, distribute copies to the public, perform publicly and display publicly, and to permit.\n",
    "others to do so.\n",
    "\n",
    "@author: Sean T. Smith, Oct. 2022\n",
    "\"\"\"\n",
    "\n",
    "from numpy import array, empty, ones, linspace, arange, cumsum, cumprod, interp, sqrt, exp\n",
    "from numpy.linalg import solve\n",
    "from scipy.special import erf\n",
    "\n",
    "%matplotlib inline\n",
    "import matplotlib.pyplot as plt"
   ]
  },
  {
   "cell_type": "markdown",
   "id": "14685fb4-097f-4529-9180-4e005bed924e",
   "metadata": {},
   "source": [
    "$$\\require{mhchem}$$\n",
    "# BET Theory\n",
    "Brunauer–Emmett–Teller (BET) theory ([wikipedia](https://en.wikipedia.org/wiki/BET_theory)) is an extension of Langmuir theory ([wikipedia](https://en.wikipedia.org/wiki/Langmuir_equation)). Specifically it aims to extend adsorption beyond a mono-layer (to which Langmuir's theory limits itself). Over time, it has been so instrumental in the determination of  catalyst surface area (and other heterogeneous materials) that it has become synonymous with a specific experimental procedure. [Here](references/BET-IITKampur-Slides.pdf) are slides giving a modern overview of concepts and issues from a technical perspective.  \n",
    "## Concepts\n",
    "The primary conceptual modeling abstraction is that multiple layers of adsorbed molecules are tracked by the size of each column (perpendicular from the surface). The model accounts for the equilibrium for all columns of equal height in the same way Langmuir models its mono-layer.\n",
    "\\begin{equation} \\begin{split}\n",
    "\\ce{A_{(g)} + S^{\\star} &<=>[K_1] A_{1(s)}} \\\\\n",
    "\\ce{A_{(g)} + A_{1(s)} &<=>[K_2] A_{2(s)}} \\\\\n",
    "\\ce{A_{(g)} + A_{2(s)} &<=>[K_3] A_{3(s)}} \\\\\n",
    "& \\vdots \\\\\n",
    "\\ce{A_{(g)} + A_{n-1(s)} &<=>[K_n] A_{n(s)}}\n",
    "\\end{split} \\end{equation}\n",
    "In theory, $n$ is large — taking the $\\lim_{n \\rightarrow \\infty}$. (In practice $10 < n < 15$ is sufficient at low relative pressures.) Quasi-steady conditions result in the following behavior:\n",
    "\\begin{equation} \\begin{split}\n",
    "K_1 &= \\tfrac{\\ce{[A_{1(s)}]}}{\\ce{[A_{(g)}][S^{\\star}]}} \\quad &= \\tfrac{\\phi_1}{P_A \\phi_S} ,\\\\\n",
    "K_2 &= \\tfrac{\\ce{[A_{2(s)}]}}{\\ce{[A_{(g)}][A_{1(s)}]}} \\quad &= \\tfrac{\\phi_2}{P_A \\phi_1} ,\\\\\n",
    "K_3 &= \\tfrac{\\ce{[A_{3(s)}]}}{\\ce{[A_{(g)}][A_{2(s)}]}} \\quad &= \\tfrac{\\phi_3}{P_A \\phi_2} ,\\\\\n",
    "&\\vdots &\\vdots \\\\\n",
    "K_n &= \\tfrac{\\ce{[A_{n(s)}]}}{\\ce{[A_{(g)}][A_{n-1(s)}]}} \\quad &= \\tfrac{\\phi_n}{P_A \\phi_{n-1}} .\n",
    "\\end{split} \\end{equation}\n",
    "Here, $\\phi_i$ refers to the fractional coverage of sites with exactly $i$ molecules in its column, and $\\phi_S$ refers to the fractional number of free sites."
   ]
  },
  {
   "cell_type": "markdown",
   "id": "32aeaf52-4444-4c73-8992-262204a7162c",
   "metadata": {},
   "source": [
    "As a side note, there are a few effects associated with these equilibrium constants worth being aware of. When the adsorption is associated with a phase change only it is called **Physisorption** and it exhibits this multi-layer behavior. When the adsorption is associated with a chemical reaction to the surface it is called **Chemisorption** and only exhibits a mono-layer (meaning $K_n = 0$ for $n \\ge 2$). For physisorption the temperature dependence of the equilibrium is relatively constant ($E_{\\mathrm{a}} \\approxeq 0$ — non-zero, but small), while chemisorption usually exhibits $60 \\le E_{\\mathrm{a}} \\le 100~\\tfrac{\\mathrm{kJ}}{\\mathrm{mol}}$. Also for chemisorption, steric hindrance occurs when a pore is filled with adsorbate or even when a necking blockage occurs along the length of the pore. "
   ]
  },
  {
   "cell_type": "markdown",
   "id": "23e406ea-3333-4eda-9328-45e7ce50e947",
   "metadata": {},
   "source": [
    "## Model Development\n",
    "Another of the primary assumptions of BET theory is that the equilibrium constants for all the deeper layers are nearly equal to the vapor-liquid equilibrium. That is\n",
    "\\begin{equation}\n",
    "K_2 \\approxeq K_3 \\approxeq \\cdots \\approxeq K_n = 1/P^{\\mathrm{sat.}}.\n",
    "\\end{equation}\n",
    "In reality, $K_2$ is often between $K_1$ and $K_n$ and there is an exponential decay to the vapor-liquid equilibrium. Also, steric hindrance in the pores can be modeled as setting $K_i = 0$ for all sufficiently large $i$. But the equality approximation is convenient enough to be in common use. It does allow significant simplification.\n",
    "\\begin{equation}\n",
    "\\phi_i \\approxeq K_1 P_A \\phi_S \\left( \\tfrac{P_A}{P^{\\mathrm{sat.}}} \\right)^{i-1}.\n",
    "\\end{equation}\n",
    "Now we can solve for $\\phi_S$ in terms of the known pressures, $P_A$ and $P^{\\mathrm{sat.}}$, and in terms of the unknown mono-layer equilibrium constant, $K_1$:\n",
    "\\begin{equation} \\begin{split}\n",
    "\\phi_S &= 1 - (\\phi_1 + \\phi_2 + \\dots + \\phi_n)  = 1 - \\sum_{j=1}^n \\phi_j = 1 - \\sum_{j=1}^n K_1 P_A \\phi_S \\left( \\tfrac{P_A}{P^{\\mathrm{sat.}}} \\right)^{j-1} \\\\\n",
    "&= 1 - K_1 P_A \\phi_S \\left[ 1 + \\left( \\tfrac{P_A}{P^{\\mathrm{sat.}}} \\right) + \\left( \\tfrac{P_A}{P^{\\mathrm{sat.}}} \\right)^2 + \\left( \\tfrac{P_A}{P^{\\mathrm{sat.}}} \\right)^3 + \\dots + \\left( \\tfrac{P_A}{P^{\\mathrm{sat.}}} \\right)^{n-1} \\right] \\quad \\text{(which is a well know Taylor series)} \\\\\n",
    "&= 1 - K_1 P_A \\phi_S \\big/ \\left[ 1 - \\left( \\tfrac{P_A}{P^{\\mathrm{sat.}}} \\right) \\right]  \\quad \\text{and solving for $\\phi_S$...} \\\\\n",
    "& \\left[ 1 + \\frac{K_1 P_A}{1 - \\tfrac{P_A}{P^{\\mathrm{sat.}}}} \\right] \\phi_S = 1, \\quad \\Rightarrow \\quad \\phi_S = \\frac{1}{1 + \\tfrac{K_1 P_A}{1 - \\tfrac{P_A}{P^{\\mathrm{sat.}}}}} = \\frac{1 - \\tfrac{P_A}{P^{\\mathrm{sat.}}}}{1 - \\tfrac{P_A}{P^{\\mathrm{sat.}}} + K_1 P_A} . \\\\\n",
    "\\end{split} \\end{equation}\n",
    "Similarly we can solve for the total number of molecules adsorbed:\n",
    "\\begin{equation} \\begin{split}\n",
    "n_{\\mathrm{ad.}} &= n^{\\star} \\left[ \\phi_1 + 2 \\phi_2 + 3 \\phi_3 + \\dots + n \\phi_n \\right] \\quad \\text{...where $n^{\\star}$ is the total number of sites} \\\\\n",
    "&= n^{\\star} \\left[ K_1 P_A \\phi_S + 2 K_1 P_A \\phi_S \\left( \\tfrac{P_A}{P^{\\mathrm{sat.}}} \\right) + 3 K_1 P_A \\phi_S \\left( \\tfrac{P_A}{P^{\\mathrm{sat.}}} \\right)^2 + \\dots + n K_1 P_A \\phi_S \\left( \\tfrac{P_A}{P^{\\mathrm{sat.}}} \\right)^{n-1} \\right] \\\\\n",
    "&= n^{\\star} K_1 P_A \\phi_S \\left[ 1 + 2 \\left( \\tfrac{P_A}{P^{\\mathrm{sat.}}} \\right) + 3 \\left( \\tfrac{P_A}{P^{\\mathrm{sat.}}} \\right)^2 + \\dots + n \\left( \\tfrac{P_A}{P^{\\mathrm{sat.}}} \\right)^{n-1} \\right] \\quad \\text{(which is another well know Taylor series...)} \\\\\n",
    "&= n^{\\star} K_1 P_A \\phi_S \\big/ \\left( 1 - \\tfrac{P_A}{P^{\\mathrm{sat.}}} \\right)^2 \\quad \\text{and substituting $\\phi_S$...} \\\\\n",
    "&= n^{\\star} K_1 P_A \\frac{1 - \\tfrac{P_A}{P^{\\mathrm{sat.}}}}{\\left( 1 - \\tfrac{P_A}{P^{\\mathrm{sat.}}} + K_1 P_A \\right) \\left( 1 - \\tfrac{P_A}{P^{\\mathrm{sat.}}} \\right)^2} \\\\\n",
    "&= \\frac{n^{\\star} K_1 P_A}{\\left( 1 - \\tfrac{P_A}{P^{\\mathrm{sat.}}} + K_1 P_A \\right) \\left( 1 - \\tfrac{P_A}{P^{\\mathrm{sat.}}} \\right)} \\quad \\text{if we let $C \\equiv K_1 / K_n$, then $K_1 = C / P^{\\mathrm{sat.}}$ and...} \\\\\n",
    "&= \\frac{n^{\\star} C \\tfrac{P_A}{P^{\\mathrm{sat.}}}}{\\left( 1 + [C - 1] \\tfrac{P_A}{P^{\\mathrm{sat.}}} \\right) \\left( 1 - \\tfrac{P_A}{P^{\\mathrm{sat.}}} \\right)} .\n",
    "\\end{split} \\end{equation}"
   ]
  },
  {
   "cell_type": "markdown",
   "id": "366313bb-319f-488f-9832-63acd33b01a0",
   "metadata": {},
   "source": [
    "## Experimental Setup\n",
    "At this juncture, the BET theory moves to infer the unknowns in these equations from experimental data — in practice the experimental data, the theory, and the inference are all unified into one concept. Before the equations reflecting that mash-up are shown, let's address the experimental procedure and issues to be aware of.  \n",
    "- First, it is important to minimize any adsorbed gas or oils on the catalyst sample prior to the experiment. This often requires heating the sample while in a vacuum environment and waiting sufficient time for degassing.\n",
    "- The experiment is going to be performed usually with $\\ce{N_2}$ or $\\ce{Ar}$ at very low temperature, so they have opportunity to condense onto the surface.\n",
    "- The adsorbate pressure starts low and increases in steps.\n",
    "- Often only initial solid mass, pressure and temperature are measured (the theory requires a measurement of adsorbed amount of gas, but this can be determined from an additional pressure measurement).\n",
    "- Most analyses neglect heat of adsorption, but it can be a real issue.\n",
    "- The adsorbate gas is added in steps starting at a pressure around $P_A/P^{\\mathrm{sat.}} = 0.3$ — with each step the pressure is recorded immediately after adding (or an added amount can be measured by alternate means) and recorded again after adsorption reaches steady state. The system should be controlled for isothermal conditions. At least two steps are required to determine surface area, but additional values inform the regression.\n",
    "- To to determine pore volume and pore radius, an additional measurement should be made near saturation conditions.\n"
   ]
  },
  {
   "cell_type": "markdown",
   "id": "b5f3a9ab-40a1-4ddb-acb9-b32f3c5b70f7",
   "metadata": {},
   "source": [
    "## Tying it All Together\n",
    "With theoretical values for $P^{\\mathrm{sat.}}$ and experimental values for $P_A$ & $n_{\\mathrm{ad.}}$, the model for $n_{\\mathrm{ad.}}$ can be rearranged by known and unknown terms into a linear form (common in chemistry):\n",
    "\\begin{equation}\n",
    "\\tfrac{1}{n_{\\mathrm{ad.}} \\left( \\tfrac{P_{\\mathrm{sat.}}}{P_A} - 1 \\right)} = \\frac{1}{n^{\\star}C} + \\frac{C - 1}{n^{\\star}C} \\left( \\frac{P_A}{P^{\\mathrm{sat.}}} \\right).\n",
    "\\end{equation}\n",
    "Everything on the left-hand side and everything in the parentheses on the right-hand side are known or specified by the experiment at each step, while the intercept and slope can be determined by regressing across multiple steps.\n",
    "\\begin{equation}\n",
    "\\begin{split}\n",
    "b &\\equiv \\frac{1}{n^{\\star}C}, \\\\\n",
    "m &\\equiv \\frac{C - 1}{n^{\\star}C} .\n",
    "\\end{split}\n",
    "\\qquad \\Rightarrow \\qquad\n",
    "\\begin{split}\n",
    "C &= \\frac{m}{b} + 1, \\\\\n",
    "n^{\\mathrm{\\star}} &= \\frac{1}{Cb} .\n",
    "\\end{split}\n",
    "\\end{equation}\n",
    "If we additionally assume that the area of each site on the catalyst is much smaller than the adsorbate's known cross-sectional area, $A_{\\mathrm{cs}}$ in area per mole, (continuum approximation for the surface), then we can finally calculate the surface area of the catalyst.\n",
    "\\begin{equation}\n",
    "A_{\\mathrm{surf}} = n^{\\star} N_{\\mathrm{A}} A_{\\mathrm{cs}} ,\n",
    "\\end{equation}\n",
    "where $N_{\\mathrm{A}}$ is Avagadro's number.\n",
    "Additionally the pore volume and radius are:\n",
    "\\begin{equation}\n",
    "V_{\\mathrm{pore}} = n_{\\mathrm{ad.}} \\hat{V}_{\\mathrm{liq.}}\n",
    "\\end{equation}\n",
    "(where $n_{\\mathrm{ad.}}$ is measured near saturation conditions and  $\\hat{V}_{\\mathrm{liq.}}$ is the molar volume of the liquid), and\n",
    "\\begin{equation}\n",
    "r_{\\mathrm{pore}} = \\frac{2 V_{\\mathrm{pore}}}{A_{\\mathrm{surf}}} .\n",
    "\\end{equation}"
   ]
  },
  {
   "cell_type": "code",
   "execution_count": 2,
   "id": "78c3348a-5fc9-45e2-9223-500d1b0b2cc6",
   "metadata": {},
   "outputs": [],
   "source": [
    "Na = 6.02214076e23  # Avagadro's number [#/mol]\n",
    "\n",
    "def antoine(T, A, B, C):\n",
    "    \"\"\"\n",
    "    Calculate the vapor pressure [bar] modeled by the Antoine equation\n",
    "    as a function of temperaure [K] and parameterized by A, B & C.\n",
    "    \"\"\"\n",
    "    return 10**(A - (B / (T + C)))"
   ]
  },
  {
   "cell_type": "code",
   "execution_count": 3,
   "id": "5dfb40ed-f531-4b1c-bfc3-fe4eacd4cf54",
   "metadata": {},
   "outputs": [],
   "source": [
    "# Nitrogen:\n",
    "# Properties from NIST webbook:\n",
    "Tc_N2 = 126.192  # critical temp. [K]\n",
    "Pc_N2 = 3.3958 * 10  # critical pres. [MPa] converted to [bar]\n",
    "ρc_N2 = 11.1839  # critical dens. [mol/L]\n",
    "Vml_N2 = 3.484e-5  # molar volume of liquid [m^3/mol]\n",
    "Acs_N2 = 16.2  # cross-sectional area [Angstrom^2/#]\n",
    "\n",
    "# Antoine parameters from NIST webbook:\n",
    "A_N2 = 3.63792\n",
    "B_N2 = 257.877\n",
    "C_N2 = -6.344"
   ]
  },
  {
   "cell_type": "code",
   "execution_count": 4,
   "id": "7a401406-ecc7-4841-be4c-ba584ffaa235",
   "metadata": {},
   "outputs": [],
   "source": [
    "# Catalyst sample\n",
    "S_cat = 0.266  # catalyst specific surface area [m^2/g]\n",
    "m_cat = 100  # mass of catalyst in experiment [g]\n",
    "σ_cat = min(0.2, 1 / Acs_N2)  # site density on catalyst [#/Angstrom^2]\n",
    "r_pore = 7_200  # pore radius [Angstroms]\n",
    "A_cat = S_cat * m_cat  # available surface area [m^2]\n",
    "n_star = A_cat * σ_cat * 1e20 / Na  # total available number of sites [mol]\n",
    "\n",
    "# BET Experiment w/ N2:\n",
    "T_BET = 77  # [K]\n",
    "V_BET = 1  # [L]\n",
    "Psat = antoine(T_BET, A_N2, B_N2, C_N2)"
   ]
  },
  {
   "cell_type": "code",
   "execution_count": 5,
   "id": "314851fc-3fdc-4896-b09c-259fab433181",
   "metadata": {},
   "outputs": [],
   "source": [
    "# R = 8.314462  # Ideal-gas constant [m^3 Pa / (K mol)]\n",
    "\n",
    "# def redlich_kwong(T, V, Tc, Pc, Vc):\n",
    "#     Tr = T / Tc\n",
    "#     Vr = V / Vc\n",
    "#     b = 2**(1/3) - 1\n",
    "#     Pr = 3 * Tr / (Vr - b) - 1 / (b * sqrt(Tr) * Vr * (Vr + b))\n",
    "#     return Pr * Pc\n",
    "\n",
    "# n = linspace(1e-3, 0.18, 200)  # [mol]\n",
    "# V = V_BET / n  # [L/mol]\n",
    "# Pideal = (n / V_BET) * R * T_BET * 1e-2 / Psat\n",
    "# P = redlich_kwong(T_BET, V, Tc_N2, Pc_N2, 1 / ρc_N2) / Psat\n",
    "\n",
    "# plt.plot(n, P, label='RK')\n",
    "# plt.plot(n, Pideal, label='ideal')\n",
    "# plt.xlim(0, n[-1])\n",
    "# plt.ylim(0, 1)\n",
    "# plt.xlabel('n [mol]', fontsize=16)\n",
    "# plt.ylabel('P [bar]', fontsize=16)\n",
    "# plt.legend(fontsize=12) ;"
   ]
  },
  {
   "cell_type": "code",
   "execution_count": 6,
   "id": "9a249b72-e78a-4b99-a1e4-54fbe6b05ee5",
   "metadata": {},
   "outputs": [
    {
     "data": {
      "image/png": "[encoded data removed]",
      "text/plain": [
       "<Figure size 640x480 with 1 Axes>"
      ]
     },
     "metadata": {},
     "output_type": "display_data"
    }
   ],
   "source": [
    "# Specify the Ks:\n",
    "m_max = 4000\n",
    "m = arange(1, m_max + 1)\n",
    "Kn = 1 / Psat\n",
    "C = 60\n",
    "K1 = C * Kn\n",
    "τ = 0.5\n",
    "n_steric = r_pore / (2 * σ_cat * Acs_N2)\n",
    "σ_steric = 0.05 * n_steric\n",
    "Ki = ((K1 - Kn) * exp(-(m - 1) / τ) + Kn) * (erf((n_steric - m) / (sqrt(2) * σ_steric)) + 1) / 2\n",
    "Ki[0] = K1\n",
    "plt.plot(m, Ki * Psat, 'o')\n",
    "plt.xlim(0, m_max + 0.5)\n",
    "plt.ylim(0, 10)\n",
    "plt.xlabel('layer depth, $i$ [#]', fontsize=16)\n",
    "plt.ylabel('$K_i$ [1/bar]', fontsize=16)\n",
    "plt.grid(True) ;"
   ]
  },
  {
   "cell_type": "code",
   "execution_count": 7,
   "id": "4250b400-5753-4180-a3e0-f17e0957bbdc",
   "metadata": {},
   "outputs": [
    {
     "data": {
      "image/png": "[encoded data removed]",
      "text/plain": [
       "<Figure size 640x480 with 1 Axes>"
      ]
     },
     "metadata": {},
     "output_type": "display_data"
    }
   ],
   "source": [
    "np = 500\n",
    "Prel = linspace(1e-6, 1 - 1e-8, np)\n",
    "n_ad = empty(np)\n",
    "for i in range(np):\n",
    "    P = Prel[i] * Psat\n",
    "    Csi = cumprod(Ki * P)\n",
    "    ϕs = 1 / (1 + Csi.sum())\n",
    "    ϕi = empty(m_max + 1)\n",
    "    ϕi[0] = ϕs\n",
    "    ϕi[1:] = Csi * ϕs\n",
    "    n_ad[i] = n_star * (m * ϕi[1:]).sum()\n",
    "plt.plot(Prel, n_ad)\n",
    "plt.xlim(0, 1)\n",
    "plt.ylim(0, None)\n",
    "plt.xlabel('relative pressure, $P/P^{\\mathrm{sat}}$ [-]', fontsize=16)\n",
    "plt.ylabel('amount adsorbed, [mol]', fontsize=16) ;"
   ]
  },
  {
   "cell_type": "code",
   "execution_count": 8,
   "id": "88160654-8d34-4d2a-bcc5-3b39cb019f75",
   "metadata": {},
   "outputs": [
    {
     "data": {
      "image/png": "[encoded data removed]",
      "text/plain": [
       "<Figure size 640x480 with 1 Axes>"
      ]
     },
     "metadata": {},
     "output_type": "display_data"
    }
   ],
   "source": [
    "y = 1 / (n_ad * (1 / Prel - 1))\n",
    "plt.plot(Prel, y)\n",
    "x_max = 0.8\n",
    "plt.xlim(0, x_max)\n",
    "plt.ylim(0, y[Prel < x_max].max())\n",
    "plt.title('BET Plot', fontsize=16)\n",
    "plt.xlabel('relative pressure, $P/P^{\\mathrm{sat}}$ [-]', fontsize=16)\n",
    "plt.ylabel('$1/[n_{ad} (1 / P_{rel} - 1)]$', fontsize=16)\n",
    "plt.grid(True);"
   ]
  },
  {
   "cell_type": "code",
   "execution_count": 9,
   "id": "ca67751b-8505-4269-a693-2f2f0e7a395b",
   "metadata": {},
   "outputs": [
    {
     "name": "stdout",
     "output_type": "stream",
     "text": [
      "268.7505682841913 455.3042443848794\n",
      "1861.807567910511 82.19503037593526\n",
      "n* [moles]:\n",
      "0.0005144026046474715\n",
      "0.0002726564147334835\n",
      " \n",
      "Area [m^2]:\n",
      "50.18443925846278\n",
      "26.6\n",
      " \n",
      "Spec. Area [m^2/g]:\n",
      "0.5018443925846278\n",
      "0.266\n",
      " \n",
      "Pore Vol. [m^3]:\n",
      "1.5122111074248818e-05\n",
      "9.576000000000001e-06\n",
      " \n",
      "Spec. Pore Vol. [m^3/g]:\n",
      "1.5122111074248817e-07\n",
      "9.576e-08\n",
      " \n",
      "Pore Radius [Angstrom]:\n",
      "6026.613547026422\n",
      "7200\n"
     ]
    }
   ],
   "source": [
    "# BET Calculation for number of sites & surface area\n",
    "i0 = 50\n",
    "i1 = 100\n",
    "slope = (y[i1] - y[i0]) / (Prel[i1] - Prel[i0])\n",
    "inter = y[i0] - slope * Prel[i0]\n",
    "print(y[i0], y[i1])\n",
    "print(slope, inter)\n",
    "C = slope / inter + 1\n",
    "n_star_i = 1 / (C * inter)  # [mol]\n",
    "print('n* [moles]:')\n",
    "print(n_star_i)\n",
    "print(n_star)\n",
    "print(' ')\n",
    "\n",
    "A_cat_i = n_star_i * Na * Acs_N2 * 1e-20  # [m^2]\n",
    "print('Area [m^2]:')\n",
    "print(A_cat_i)\n",
    "print(A_cat)\n",
    "print(' ')\n",
    "\n",
    "S_cat_i = A_cat_i / m_cat  # [m^2]\n",
    "print('Spec. Area [m^2/g]:')\n",
    "print(S_cat_i)\n",
    "print(S_cat)\n",
    "print(' ')\n",
    "\n",
    "V_pore_i = n_ad.max() * Vml_N2  # [m^3]\n",
    "print('Pore Vol. [m^3]:')\n",
    "print(V_pore_i)\n",
    "print((r_pore * 1e-10) * A_cat / 2)\n",
    "print(' ')\n",
    "\n",
    "Vs_pore_i = V_pore_i / m_cat  # [m^3]\n",
    "print('Spec. Pore Vol. [m^3/g]:')\n",
    "print(Vs_pore_i)\n",
    "print((r_pore * 1e-10) * A_cat / (2 * m_cat))\n",
    "print(' ')\n",
    "\n",
    "r_pore_i = (2 * V_pore_i / A_cat_i) * 1e10  # [Angstrom]\n",
    "print('Pore Radius [Angstrom]:')\n",
    "print(r_pore_i)\n",
    "print(r_pore)"
   ]
  },
  {
   "cell_type": "code",
   "execution_count": 10,
   "id": "45c24d2e-be9c-4e02-80d0-45391af3cef4",
   "metadata": {},
   "outputs": [],
   "source": [
    "adsorbate_thermo = dict(\n",
    "    nitrogen=dict(Vml=34.84e-6,  # molar volume of liquid [m^3/mol]\n",
    "                  Acs=16.2,  # cross-sectional area [Angstrom^2/#]\n",
    "                  crit=dict(T=126.192,  # critical temp. [K]\n",
    "                            P=(3.3958 * 10),  # critical pres. [MPa] converted to [bar]\n",
    "                            ρ=11.1839),  # critical density [mol/L]\n",
    "                  antoine=dict(A=3.63792,\n",
    "                               B=257.877,\n",
    "                               C=-6.344)),\n",
    "    argon=dict(Vml=28.66e-6,  # molar volume of liquid [m^3/mol]\n",
    "               Acs=14.2,  # cross-sectional area [Angstrom^2/#]\n",
    "               crit=dict(T=150.86,  # critical temp. [K]\n",
    "                         P=48.9805,  # critical pres. [bar]\n",
    "                         ρ=13.41),  # critical density [mol/L]\n",
    "               antoine=dict(A=3.29555,\n",
    "                            B=215.24,\n",
    "                            C=-22.233)))\n",
    "\n",
    "cat_props = dict(\n",
    "    klugherz=dict(S_cat = 0.266,  # catalyst specific surface area [m^2/g]\n",
    "                  σ_cat = 0.2,  # site density on catalyst [#/Angstrom^2]\n",
    "                  r_pore = 7_200))  # pore radius [Angstroms]"
   ]
  },
  {
   "cell_type": "code",
   "execution_count": 11,
   "id": "c0cd799f-746f-4a92-b6cd-b9ee960bbdb9",
   "metadata": {},
   "outputs": [
    {
     "name": "stdout",
     "output_type": "stream",
     "text": [
      "Psat = 0.97 bar\n",
      "[0.29193591 0.30166711 0.3113983  0.3211295 ]\n",
      "[0.00065831 0.00066887 0.00067945 0.00069008]\n",
      "0.4208925960485466\n"
     ]
    }
   ],
   "source": [
    "def _BETexpt(cat, m_cat, adsorbate, Texpt, Vexpt, Prels):\n",
    "    \"\"\"\n",
    "    Simulate the performace of a BET experiment.\n",
    "    Input:\n",
    "        cat (str):  which catalyst used in the experiment (must be in cat_props),\n",
    "        m_cat (float):  mass of catalyst [g],\n",
    "        adsorbate (str):  which adsorbate used in the experiment (must be in adsorbate_thermo),\n",
    "        Texpt (float):  temperature at which to perform the experiment [K],\n",
    "        Vexpt (float):  volume in which the the experiment is performed [L],\n",
    "        Prels (seq. of floats):  intermediate rel. press. at which to perform the expt. [bar].\n",
    "    Output:\n",
    "        Ps (array):  measured values intermediate press. at which the expt. was performed [bar],\n",
    "        n_ad (array):  amount of adsorption measured at each value of Ps [mol],\n",
    "        n_sat (float):  amount of adsorption measured near Psat [mol].\n",
    "    \"\"\"\n",
    "    # Retrieve properties of the catalyst & adsorbate from specified entries in each library.\n",
    "    S_cat, σ_cat, r_pore = (cat_props[cat][el] for el in cat_props[cat].keys())\n",
    "    ad = adsorbate_thermo[adsorbate]\n",
    "    Vml, Acs = (ad[el] for el in ['Vml', 'Acs'])\n",
    "    # Tc, Pc, ρc = (ad['crit'][el] for el in ad['crit'].keys())\n",
    "    # Calculate the intermediate variables.\n",
    "    Psat = antoine(Texpt, **ad['antoine'])  # saturation pressure [bar]\n",
    "    print(f'Psat = {Psat:.2g} bar')\n",
    "    Ps = Psat * Prels  # intermediate pressures [bar]\n",
    "    A_cat = S_cat * m_cat  # available surface area [m^2]\n",
    "    σs = min(σ_cat, 1 / Acs)  # site density [# / Angstrom^2]\n",
    "    n_star = A_cat * σs * 1e20 / Na  # total available number of sites [mol]\n",
    "    n_steric = r_pore / (2 * σs * Acs)  # No. of layers for steric hindrance in pores\n",
    "    m_max = int(1.2 * n_steric)  # maxiumum number of layers tracked\n",
    "    # Calculate the equilibrium constants.\n",
    "    m = arange(1, m_max + 1)\n",
    "    Kn = 1 / Psat\n",
    "    C = 60\n",
    "    K1 = C * Kn\n",
    "    τ = 0.5\n",
    "    σ_steric = 0.06 * n_steric\n",
    "    Ki = ((K1 - Kn) * exp(-(m - 1) / τ) + Kn) * (erf((n_steric - m) / (sqrt(2) * σ_steric)) + 1) / 2\n",
    "    Ki[0] = K1\n",
    "    # Calculate the fractional coverage for each number of layers & the total number adsorbed.\n",
    "    # TODO: I am currently assuming that n_ad can be measured directly, learn how this is done commonly in experiemnts and replicate it.\n",
    "    # P = redlich_kwong(Texpt, Vexpt / n, Tc, Pc, 1 / ρc)\n",
    "    Paug = array([*Ps, Psat - 1e-8])\n",
    "    n_aug = empty(Prels.shape[0] + 1)\n",
    "    ϕi = empty(m_max + 1)\n",
    "    for j, P in enumerate(Paug):\n",
    "        Csi = cumprod(Ki * P)\n",
    "        ϕs = 1 / (1 + Csi.sum())\n",
    "        ϕi[0] = ϕs\n",
    "        ϕi[1:] = Csi * ϕs\n",
    "        n_aug[j] = n_star * (m * ϕi[1:]).sum()\n",
    "    n_ad = n_aug[:-1]\n",
    "    n_sat = n_aug[-1]\n",
    "    return Ps, n_ad, n_sat\n",
    "Ps, n_ad, n_sat = _BETexpt('klugherz', 100, 'nitrogen', 77, 1, array([0.30, 0.31, 0.32, 0.33]))\n",
    "print(Ps)\n",
    "print(n_ad)\n",
    "print(n_sat)"
   ]
  },
  {
   "cell_type": "code",
   "execution_count": 13,
   "id": "fa830d2e-fe41-42e0-8c60-63fe05fd9401",
   "metadata": {},
   "outputs": [
    {
     "name": "stdout",
     "output_type": "stream",
     "text": [
      "[0.3  0.31 0.32 0.33]\n",
      "[651.02183654 671.69698432 692.59920845 713.73848734]\n",
      "23.74977314474778 2090.5217651396156\n"
     ]
    },
    {
     "data": {
      "text/plain": [
       "(0.00047297614421440643,\n",
       " 46.14292844861568,\n",
       " 1.4663898046331364e-05,\n",
       " 6355.859300374029)"
      ]
     },
     "execution_count": 13,
     "metadata": {},
     "output_type": "execute_result"
    }
   ],
   "source": [
    "def BETanalyze(Ps, n_ad, n_sat, m_cat, adsorbate, Texpt):\n",
    "    \"\"\"\n",
    "    Analyze the raw pressure/amount data from a BET experiment to determe the catalyst properties.\n",
    "    Input:\n",
    "        Ps (array):  measured values intermediate press. at which the expt. was performed [bar],\n",
    "        n_ad (array):  amount of adsorption measured at each value of Ps [mol],\n",
    "        n_sat (float):  amount of adsorption measured near Psat [mol].\n",
    "        m_cat (float):  mass of catalyst [g],\n",
    "        adsorbate (str):  which adsorbate used in the experiment (must be in adsorbate_thermo),\n",
    "        Texpt (float):  temperature at which to perform the experiment [K],\n",
    "    Output:\n",
    "        n_star (float):  No. of catalyst sites on sample [mol],\n",
    "        A_cat (float):  surface area of catalyst [m^2]\n",
    "        V_pore (float):  pore volume of catalyst [m^3]\n",
    "        r_pore (float):  pore radius of catalyst [Angstrom]\n",
    "    \"\"\"\n",
    "    # TODO: Currently using the same values as the experiment, this could be different.\n",
    "    ad = adsorbate_thermo[adsorbate]\n",
    "    Vml, Acs = (ad[el] for el in ['Vml', 'Acs'])\n",
    "    Psat = antoine(Texpt, **ad['antoine'])  # saturation pressure [bar]\n",
    "    Prel = Ps / Psat\n",
    "    y = 1 / (n_ad * (1 / Prel - 1))\n",
    "    G = array([ones(Prel.shape[0]), Prel]).T\n",
    "    slope, inter = solve(G.T @ G, G.T @ y)\n",
    "    C = slope / inter + 1\n",
    "    n_star = 1 / (C * inter)  # [mol]\n",
    "    A_cat = n_star * Na * Acs * 1e-20  # [m^2]\n",
    "    # S_cat = A_cat / m_cat  # [m^2]\n",
    "    V_pore = n_sat * Vml  # [m^3]\n",
    "    # Vs_pore = V_pore / m_cat  # [m^3]\n",
    "    r_pore = (2 * V_pore / A_cat) * 1e10  # [Angstrom]\n",
    "    return n_star, A_cat, V_pore, r_pore\n",
    "BETanalyze(Ps, n_ad, n_sat, m_cat, 'nitrogen', 77)"
   ]
  },
  {
   "cell_type": "markdown",
   "id": "cc599bfe-5fb8-4033-b504-03e58a5bba70",
   "metadata": {},
   "source": [
    "# Armbruster (1942) Various gases adsorbed to Ag\n",
    "> [Armbruster, Marion H. \"The Adsorption of Gases at Low Temperature and Pressure on Smooth Silver,\" Nov. **1942**, pp. 2545-2553.](references/Armbruster1942-AdsorptionOnSilver.pdf)"
   ]
  },
  {
   "cell_type": "code",
   "execution_count": null,
   "id": "25839ece-02b5-45a2-abd7-b9c99c830023",
   "metadata": {},
   "outputs": [],
   "source": []
  }
 ],
 "metadata": {
  "kernelspec": {
   "display_name": "Python 3 (ipykernel)",
   "language": "python",
   "name": "python3"
  },
  "language_info": {
   "codemirror_mode": {
    "name": "ipython",
    "version": 3
   },
   "file_extension": ".py",
   "mimetype": "text/x-python",
   "name": "python",
   "nbconvert_exporter": "python",
   "pygments_lexer": "ipython3",
   "version": "3.9.13"
  }
 },
 "nbformat": 4,
 "nbformat_minor": 5
}
