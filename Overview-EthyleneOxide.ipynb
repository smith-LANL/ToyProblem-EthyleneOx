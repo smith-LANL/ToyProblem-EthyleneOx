{
 "cells": [
  {
   "cell_type": "code",
   "execution_count": 1,
   "id": "178dd32e-a8e2-49d4-81ad-3d326a63bb36",
   "metadata": {},
   "outputs": [],
   "source": [
    "\"\"\"\n",
    "Problem setup for the prediction of an industrial ethylene-oxide reactor.\n",
    "\n",
    "© 2023. Triad National Security, LLC. All rights reserved.\n",
    "This program was produced under U.S. Government contract 89233218CNA000001 for Los Alamos\n",
    "National Laboratory (LANL), which is operated by Triad National Security, LLC for the U.S.\n",
    "Department of Energy/National Nuclear Security Administration. All rights in the program are.\n",
    "reserved by Triad National Security, LLC, and the U.S. Department of Energy/National Nuclear\n",
    "Security Administration. The Government is granted for itself and others acting on its behalf a\n",
    "nonexclusive, paid-up, irrevocable worldwide license in this material to reproduce, prepare.\n",
    "derivative works, distribute copies to the public, perform publicly and display publicly, and to permit.\n",
    "others to do so.\n",
    "\n",
    "@author: Sean T. Smith, Oct. 2022\n",
    "Additional credit: This initially grew out of a homework problem created by\n",
    "Prof. Philip J. Smith (Chemical Eng., U. of Utah) for his graduate mass-transfer\n",
    "course.\n",
    "\"\"\";"
   ]
  },
  {
   "cell_type": "code",
   "execution_count": 1,
   "id": "606bcd22-9e9f-4c08-a5b6-ee692efa3d78",
   "metadata": {},
   "outputs": [
    {
     "data": {
      "application/javascript": [
       "MathJax.Hub.Config({TeX : {equationNumbers : {autoNumber : \"AMS\"}}});\n"
      ],
      "text/plain": [
       "<IPython.core.display.Javascript object>"
      ]
     },
     "metadata": {},
     "output_type": "display_data"
    }
   ],
   "source": [
    "%%javascript\n",
    "MathJax.Hub.Config({TeX : {equationNumbers : {autoNumber : \"AMS\"}}});"
   ]
  },
  {
   "cell_type": "markdown",
   "id": "1e978403-43f8-4200-95bf-f5d115adaafc",
   "metadata": {},
   "source": [
    "# Intentions\n",
    "This is a relatively simple example of multi-physics modeling. It requires coupling models from different disciplines (physical/chemical/engineering models). It entails models of differing fidelity — potentially allowing the exploration of model-form error. It requires numerical calculation — potentially providing an example for verification and the effects of numerical error on validation / uncertainty quantification (V/UQ). It is developed as a pedagogical problem in the sense that there is a system in place for a 'hidden' high-fidelity model that is used to represent reality and from which hypothetical experimental values can be drawn. The hope is that it provides a useful test bed for V/UQ techniques and that it illustrates the messiness of both models and experiments in the real world."
   ]
  },
  {
   "cell_type": "markdown",
   "id": "70d566b9-14c9-409e-aa23-3d87e0c4ac82",
   "metadata": {},
   "source": [
    "$$\\require{mhchem}$$\n",
    "# Ethylene Oxide & Its Production\n",
    "Ethylene oxide is the main component in thermobaric weapons, but is produced primarily as a feed stock for ethylene glycol (which in turn is used to produce polyester, antifreeze and many other products). Large-scale production started in WWI as a feed-stock for mustard gas. It was [first patented in the US](https://patents.google.com/patent/US1998878A/enhttps://patents.google.com/patent/US1998878A/en) in 1931 leading to a Union-Carbide plant in 1937. In 1958 Shell Oil Co. improved the process by using pure oxygen in place of air and by shifting operations to the range of $200-300^{\\circ}$C and $1-3$MPa. By the mid. 1970s the Shell improvements had taken over the industry, but nitrogen was still sometimes used to moderate temperature. Ethylene-oxide's production has grown to account for 11% of all ethylene and use has grown to the point that the American Fuel & Petrochemical Manufacturers association [has referred to it](https://www.afpm.org/newsroom/blog/ethylene-worlds-most-important-chemicalhttps://www.afpm.org/newsroom/blog/ethylene-worlds-most-important-chemical) as, \"**the world’s most important chemical**.\" *It isn't really the most important, but an argument could be made for inclusion in the top ten.*  \n",
    "The structure of ethylene oxide is indicated in the following ways: \n",
    "<span>\n",
    "    $\\ce{C_2H_4O}$,\n",
    "    <a href=\"https://en.wikipedia.org/wiki/File:Ethylene_oxide.png\" /> <img src=\"https://upload.wikimedia.org/wikipedia/commons/thumb/3/3f/Ethylene_oxide.png/800px-Ethylene_oxide.png\" width=\"60\"/> </a>, or\n",
    "    <a href=\"https://en.wikipedia.org/wiki/Ethylene_oxide\" /> <img src=\"https://upload.wikimedia.org/wikipedia/commons/2/2d/Ethylene-oxide-from-xtal-3D-balls.png\" width=\"60\"/> </a>.\n",
    "</span>  \n",
    "Although the down-stream products created from ethylene oxide are usually quite benign, ethylene oxide itself is quite dangerous. Most immediately due to its flammability and explosive qualities, but contact in large amounts over a short period can be poisonous and exposure in moderate amounts over a long period can be carcinogenic.  \n",
    "The production of ethylene oxide is most commonly a result of reacting ethylene gas with oxygen on the [surface of a catalyst](https://en.wikipedia.org/wiki/Heterogeneous_catalysishttps://en.wikipedia.org/wiki/Heterogeneous_catalysis):  \n",
    "<span>\n",
    "    $\\ce{C_2H_4_{(s)} + O_{(s)} -> C_2H4_O_{(s)}}$, or \n",
    "    <a href=\"https://en.wikipedia.org/wiki/Ethylene\" /> <img src=\"https://upload.wikimedia.org/wikipedia/commons/c/c2/Ethylene-CRC-MW-3D-balls.png\" width=\"40\"/> </a>\n",
    "    $\\ce{+}$\n",
    "    <a href=\"https://www.pngall.com/ball-png/download/54222\" /> <img src=\"https://www.pngall.com/wp-content/uploads/5/Red-Ball-Transparent.png\" width=\"20\"/> </a>\n",
    "    $\\ce{->}$\n",
    "    <a href=\"https://en.wikipedia.org/wiki/Ethylene_oxide\" /> <img src=\"https://upload.wikimedia.org/wikipedia/commons/2/2d/Ethylene-oxide-from-xtal-3D-balls.png\" width=\"40\"/> </a>.  \n",
    "</span>\n",
    "However, ethylene oxide is not the only possible product of reacting ethylene with oxygen — it may also react all the way to water & carbon dioxide.  \n",
    "<span>\n",
    "    <a href=\"https://www.gauss-centre.eu/results/materials-science-and-chemistry/sulfur-in-ethylene-epoxidation-on-silver\" /> <img src=\"https://www.gauss-centre.eu/fileadmin/_processed_/a/d/csm_jones_sees2_fig01_550px_7bf45f7bc4.jpg\" width=\"250\"/> </a>  \n",
    "</span>"
   ]
  },
  {
   "cell_type": "markdown",
   "id": "4ed926b6-0c80-4864-9576-4431cfe77e94",
   "metadata": {},
   "source": [
    "The industrial reactors themselves are large affairs with thousands of reaction tubes (each packed with catalyst material) together embedded in an encasing shell which provides a flowing coolant.  \n",
    "<span>\n",
    "    <a href=\"https://www.researchgate.net/publication/226236142_Development_and_analysis_of_heterogeneous_catalytic_processes_and_reactors\" /> <img src=\"https://www.researchgate.net/profile/V-Makhlin/publication/226236142/figure/fig2/AS:451539887235073@1484666906633/Reactor-for-ethylene-oxide-synthesis-D-4500-mm-d-25-20-mm-h-7700-mm-and-n-14.png\" width=\"100\"/> </a>\n",
    "    <a href=\"https://www.indiamart.com/proddetail/ethylene-oxide-reactors-3941770973.html\" /> <img src=\"https://3.imimg.com/data3/TI/VI/MY-2527942/ethylene-oxide-reactors-500x500.jpg\" width=\"300\"/> </a>\n",
    "</span>  \n",
    "(This image of the full reactor shows it in transport. In place it stands with the long direction vertical. The gases flow upward through each of the individual tubes.)  \n",
    "The catalyst for ethylene oxide is silver embedded on silicon-oxide (for mechanical support). The catalyst is an essential, but expensive aspect of the reactor. It is provided in the form of pellets (for a size reference, think large Lego blocks). They come in one of a variety of common shapes: spheres, cubes, cylinders, [Raschig rings](https://en.wikipedia.org/wiki/Raschig_ring), etc. Generally higher surface area is favorable (requiring complex pore structures at the surface of the catalyst). But it is also important that the mouth of the pore is open, to facilitate transport of reactants into the pores and products out of them.  \n",
    "<span>\n",
    "    <a href=\"https://catalysts.basf.com/industries/chemical/syngas-catalysts/synspire-dry-reforming-catalysts\" /> <img src=\"https://d31wn8gmdcz28h.cloudfront.net/inline_images/_inlineImageFull/Synspire-2.jpg.webp\" width=\"170\"/> </a>\n",
    "    <a href=\"https://www.silverinstitute.org/silver-catalysts/\" /> <img src=\"https://www.silverinstitute.org/wp-content/uploads/2017/06/SilverCatalyst.jpg\" width=\"175\"/> </a>\n",
    "    <a href=\"./references/vandenReijen2019-Isomerization2acetaldehyde.pdf\" /> <img src=\"./figures/vandenReijen2019-Fig2b.png\" width=\"230px\"/> </a>\n",
    "</span>  \n",
    "\n",
    "As a catalyzed product, ethylene oxide is unique in that higher surface area on the catalyst is not always preferable — too low of area and the production rates are reduced, but too high and the selectivity is affected (the $\\ce{CO2}$ reaction is favored too much). In order to design such reactors, to optimize operations or to troubleshoot poor behavior theoretical models are developed which simulate the progress of the various reactions."
   ]
  },
  {
   "cell_type": "markdown",
   "id": "5bbcd3e1-3496-4579-a400-bbaf3ca0ce83",
   "metadata": {},
   "source": [
    "$$\\require{cancel}$$\n",
    "# Reactor Modeling\n",
    "The modeling of the reactor behavior is based on concepturally breaking the problem into two distinct continuum scales. First — on the large scale (meaning the length-scale of the reactor itself), the reactants are flowing primarily along the length of the reactor and are slowly being converted to products. Second — on a scale from tens of nano-meters to tens of micro-meters, the reactants must migrate from the bulk fluid through a film at the surface of the catalyst and further migrate partway into a pore where they react to products on the surface by some complex mechanism. And similarly, the reactants must migrate back out of the pores and through the film to the bulk flow.  \n",
    "<span>\n",
    "    <a/> <img src=\"figures/EthyleneOxideReactor-SingleTube.png\" width=\"600\"/> </a>\n",
    "</span>\n",
    ".\n",
    "\n",
    "At each of these scales the mathematical models are constructed based on fairly universal principles & mechanistic behavior. In the case of the large-scale model, a mole-balance is used to make a precise accounting for the transport of chemical species spatially in the reactor. This approach has the advantage of conserving the atomic elements as well at total mass. One way to formulate a model from a conservation principle is to set up a control volume ($V^{\\mathrm{control}}$, characterized by its cross-sectional area, $A^{\\mathrm{control}}$, and axial length, $\\Delta z$) and track the accumulation (time rate of change of the number, in moles, by integrating the molar concentration, $\\frac{\\partial}{\\partial t} \\int \\! C_i \\mathrm{d}V$ over the control volume) for each species within the volume, the flux in and out (for the local molar flux, $N_i [=] \\frac{\\text{moles of species } i}{\\mathrm{m}^2 \\mathrm{s}}$, which will be positive in the coordinate directions) of the boundaries of the control volume, as well as the production of each species (in terms of the volumetric production rate, $R_i [=] \\frac{\\text{moles of species } i}{\\mathrm{s} \\mathrm{m}^3}$, which is positive for products coming off of the catalyst surface and negative for the reactants that terminate at the catalyst surface) throughout the control volume.  \n",
    "<span>\n",
    "    <a/> <img src=\"figures/EthyleneOxidationModeling.png\" width=\"400\"/> </a>\n",
    "</span>\n",
    "\n",
    "\\begin{equation*}\n",
    "\\cancelto{0 \\text{ (steady)}}{\\frac{\\partial}{\\partial t} \\int_{V^{\\mathrm{control}}_l} \\!\\! C_i \\, \\mathrm{d}V} = -\\oint_{A^{\\mathrm{control}}_l} \\!\\! \\boldsymbol{N}_i \\cdot \\mathrm{d} \\boldsymbol{A} + \\int_{V^{\\mathrm{control}}_l} \\!\\! R_i \\, \\mathrm{d}V\n",
    "\\end{equation*}\n",
    "Since this is a catalyst system, we will choose to rewrite the volumetric production rate in terms of a flux at the catalyst surface:\n",
    "\\begin{equation*}\n",
    "R_i = \\frac{A^{\\mathrm{catalyst}}}{V^{\\mathrm{reactor}}} N_i^{\\mathrm{catalyst}},\n",
    "\\end{equation*}\n",
    "where $A^{\\mathrm{catalyst}}$ is the amount of catalyst area within the reactor and $N_i^{\\mathrm{catalyst}}$ represents the flux of species off of the catalyst surface as it is produced (with negative values for the termination of reactants).  \n",
    "Similarly, conservation of energy could be used to model the spatial changes in temperature.\n",
    "\n",
    "Furthermore, models can be constructed to describe the physical behavior with higher or lower fidelity. One obvious choice would be to use computational-fluid mechanics to model the large-scale flow down the reactor. To keep things simple in this exercise, we will make an assumption of uniformity across the magenta control volume (alternately assume a unidirectional approximation or so called **plug-flow**),\n",
    "\\begin{equation}\n",
    "\\frac{\\mathrm{d} N_i}{\\mathrm{d} z} = \\left( \\frac{A^{\\mathrm{catalyst}}}{V^{\\mathrm{reactor}}} \\right) N_i^{\\mathrm{catalyst}} .\n",
    "\\end{equation}\n",
    "In this toy problem **we will limit ourselves, at the largest scale, to this model equation** (and potentially an analogous version for temperature). However, this model in and of itself is not closed. Closure requires a model for $N_i^{\\mathrm{catalyst}}$ or alternatively written in terms of the film flux, $N_i^{\\mathrm{film}}$. These two fluxes only differ due to the area at the surface of the pores versus the film area: $A^{\\mathrm{catalyst}} N_i^{\\mathrm{catalyst}} = A^{\\mathrm{film}} N_i^{\\mathrm{film}}$. refer to the [section on mass transfer](#Mass-Transfer).  \n",
    "For illustrative purposes, a potential solution to this equation is provided as profiles of chemical species concentrations as a function of length down the reactor.  \n",
    "<span>\n",
    "    <a/> <img src=\"figures/Hwk12x.png\" width=\"500\"/> </a>\n",
    "</span>"
   ]
  },
  {
   "cell_type": "markdown",
   "id": "319a5410-0957-4f91-8ddb-a68bf7c057af",
   "metadata": {},
   "source": [
    "# Hierarchy\n",
    "The multiple components (sub-models) are integrated together for the full multi-physics model. Their interrelationships can be illustrated by a hierarchy:  \n",
    "<span>\n",
    "    <a/> <img src=\"figures/EthyleneOxideHierarchy.svg\" width=\"350\"/> </a>\n",
    "</span>\n",
    "\n",
    "Each brick of the hierarchy may be identified by a unique aspect of the modeling, by a unique experiment, or ideally by a combination of the two.\n",
    "\n",
    "Like Alice following the White Rabbit down its hole, one could always add more contributing factors to a hierarchy. The challenge is to first identify those phenomena that contribute the largest impact to the uncertainty of the prediction. Then one should identify when to stop adding further contributions once either the budget is exhausted or the desired uncertainty has been reached.\n",
    "\n",
    "For this problem the [reaction kinetics](#Reaction-Kintetics), [mass transfer](#Mass-Transfer), [catalyst surface properties](#Catalyst) and turbulence. Other phenomena worth considering are heat transfer, Thiele modulation, catalyst deactivation, and equation of state."
   ]
  },
  {
   "cell_type": "markdown",
   "id": "2bd8bcb9-8eba-4f3c-8550-d6f8b05cc0b6",
   "metadata": {},
   "source": [
    "$$\\require{fontenc}$$\n",
    "## Mass Transfer\n",
    "> \"Conditions in the immediate region of an interface between phases are hard to explore experimentally. In such situations it is helpful to develop a mathematical model of the process starting with the known basic facts. The result of the analysis is then compared with those experimental measurements which it is possible to make. Good agreement suggests that the model may have been correct.\"  \n",
    "> — *T.K. Sherwood, R.L. Pigford and C.R. Wilke (1975) and quoted in the Chapter 8 heading of Taylor & Krishna, Multicomponent Mass Transfer (1993)*\n",
    "\n",
    "I know of no experiment that can provide direct insight for the behavior of mass transfer in the film and pores. However, there are experiments that measure required physical properties of the catalyst surface and pores.\n",
    "\n",
    "Regarding the theory for the mass flux through the film, $N_i^{\\mathrm{film}}$, a standard approach for mass-transfer through a turbulent film makes a pseudo-binary assumption with a [Newton's-law-of-cooling](https://en.wikipedia.org/wiki/Newton%27s_law_of_cooling)-like convection flux and results in the the following model:\n",
    "\\begin{equation}\n",
    "A^{\\mathrm{film}} N_i^{\\mathrm{film}} = A^{\\mathrm{film}} C_{\\mathrm{tot.}} k_i (x_i^{\\mathrm{surf.}} - x_i^{\\infty}) = A^{\\mathrm{cat.}} \\boldsymbol{\\nu}_i \\boldsymbol{r}(\\boldsymbol{x}^{\\mathrm{surf.}}) ,\n",
    "\\end{equation}\n",
    "where $A^{\\mathrm{film}}$ represents the area of film mass transfer, $\\rho$ is the mass density of the gas in the film, $k_i$ is the mass-transfer coefficient, $x_i^{\\infty}$ and $x_i^{\\mathrm{surf.}}$ represent the species mole fractions in the bulk and at the film/solid-surface interface respectively, $A^{\\mathrm{cat.}}$ is the catalyst area, $\\boldsymbol{\\nu}_i$ are the stoichiometric coefficients for species $i$, and $\\boldsymbol{r}$ are the reaction rates. It is advisable to include an effectiveness factor, $\\varepsilon_T$, for modulation of reaction in the pores (effect of the well-known [Thiele modulus](https://en.wikipedia.org/wiki/Thiele_modulus)), but that is currently excluded for the sake of simplicity. A key mass-transfer quantity in this expression is the mass-transfer coefficient which is determined from the dimensionless Sherwood number, $\\mathit{Sh}_i$,\n",
    "\\begin{equation}\n",
    "\\mathit{Sh}_i = \\tfrac{k_i}{\\mathscr{D}_i^{\\mathrm{eff.}}/D_p} ,\n",
    "\\end{equation}\n",
    "where $\\mathscr{D}_i^{\\mathrm{eff.}}$ are the effective molecular-diffusion coefficients and $D_p$ is the effective diameter of the catalyst pellet. More on the Sherwood number is described in the [turbulence section](#Turbulence)."
   ]
  },
  {
   "cell_type": "markdown",
   "id": "134b26b9-4755-475b-b876-1ace9dfae376",
   "metadata": {},
   "source": [
    "## Reaction Kintetics\n",
    "In spite of this system being studied so extensively, there is little agreement about the mechanism nor form of the rate equations. Even microkinetic modeling using density functional theory has not been able to identify the leading pathways. A primary source of confusion is that oxygen has been observed on silver surfaces in three different forms: physisorbed molecular oxygen, atomic oxygen (reported variously as weakly bound and strongly bound), and chemisorbed atomic oxygen below a monolayer of silver.  \n",
    "For an informed sampling from the literature with notes, limited experimental data and worked examples see the [notebook on ethylene-oxide rate expressions](EthyleneOxRates-Literature.ipynb).\n",
    "Or to read the five referenced papers directly:\n",
    "- [Klugherz, Peter D. & Harriott, Peter, \"Kinetics of Ethylene Oxidation on a Supported Silver Catalyst,\" AIChE Journal, Vol. 17, No. 14, July **1971**, pp. 856-866.](references/Klugherz1971-EthyleneOx.pdf),\n",
    "- [M.A. Al-Saleh, M.S. Al-Ahmadi, M.A. Shalabi, \"Kinetic Study of Ethylene Oxidation in a Berty Reactor,\" Chem. Eng. J., Vol. 37, **1988**, pp. 35-41.](references/AlSaleh1987-EthyleneOx.pdf),\n",
    "- [Borman, Peter C. & Westerterp, K. Roel, \"An Experimental Study of the Kinetics of the Selective Oxidation of Ethene over Silver on α-Alumina Catalyst,\" Ind. Eng. Chem. Res., Vol. 34, **1995**, pp. 49-58.](references/Borman1995-EthyleneOxideKinetics.pdf),\n",
    "- [Schouten, E.P.S., Borman, P.C. & Westerterp, K.R., \"Influence of reaction products on the selective oxidation of ethene,\" Chem. Eng. & Processing, Vol. 35, **1996**, pp. 107-120.](references/Schoutten1996-BormanFollowUp.pdf),\n",
    "- [Tiancheng Pu, Huijie Tian, Micheal E. Ford, Srinivas Rangarajan, and Isreal Wachs, \"Overview of Selective Oxidation of Ethylene to Ethylene Oxide by Ag Catalysts,\" ACS Catal., Vol. 9, **2019**, pp. 10727-10750.](references/Pu2019-EthyleneOxReview.pdf).\n",
    "\n",
    "As a quick overview of the model form, [this last paper](references/Pu2019-EthyleneOxReview.pdf) (a review article) contains a table that surveys the variety of rate expressions proposed over the decades — each with a reasonable degree of success.  \n",
    "<span>\n",
    "    <a/> <img src=\"figures/Pu2019-Table4.png\" width=\"700\"/> </a>\n",
    "</span>\n",
    "\n",
    "In these expressions, $P_i$ are the independent variables that quantify the chemical composition just above the surface (technically called *partial pressures*) while both $k$ and $K_i$ are unknown parameters. So for example, we could choose the rate expression from the first paper in the list above (and the first entry in Pu's table):\n",
    "\\begin{equation} \\begin{split}\n",
    "R_{eo}^{\\mathrm{surf.}} &= \\frac{r_{eo}}{A_{\\mathrm{cat.}}} &= \\frac{1}{A_{\\mathrm{cat.}}} \\frac{k_{eo} P_e P_o^{3/2}}{(1 + K_e P_e + \\sqrt{K_o P_o} + K_p P_p)^2 (1 + \\sqrt{K_s P_o})^2} , \\\\\n",
    "R_c^{\\mathrm{surf.}} &= \\frac{r_c}{A_{\\mathrm{cat.}}} &= \\frac{1}{A_{\\mathrm{cat.}}} \\frac{k_c P_e P_o^2}{(1 + K_e P_e + K_o P_o + K_p P_p)^2 (1 + \\sqrt{K_s P_o})^2} .\n",
    "\\end{split} \\end{equation}\n",
    "To emphasize, **this is one of multiple options for kinetic model form**.\n",
    "\n",
    "On the experimental side, the reactors are small (having a dimension of 10s of cm). A large focus of the design of the lab-scale reactors is to ensure that the mass transfer occurs quickly so that the slower process of reaction rate is dominating the rate measurements. The next most important concern is the ability to tightly control the reaction conditions: temperature, pressure and composition. Many authors express trouble maintaining a catalyst surface that exhibits a constant reactivity."
   ]
  },
  {
   "cell_type": "markdown",
   "id": "874c8b3e-765a-4de8-baf4-9f5f3a339fc5",
   "metadata": {},
   "source": [
    "## Turbulence\n",
    "The flow over catalyst pellets in a pipe easily triggers turbulence which increases pressure drop along the pipe, but more importantly causes increased mixing of chemical species near the surface of the catalyst. This effect is most usefully characterized by a turbulent Sherwood number\n",
    "\\begin{equation*}\n",
    "\\mathit{Sh}_i = \\tfrac{\\text{convective mass-transfer rate}}{\\text{molecular diffusion rate}} = \\tfrac{k_i}{\\mathscr{D}_i^{\\mathrm{eff.}}/D_p} .\n",
    "\\end{equation*}\n",
    "In turbulent flow, the Sherwood number could hypothetically be correlated to experimental data. However, the Chilton-Colburn analogy is sufficiently accurate to allow empirical correlations for the Nusselt number to be used in place of Sherwood correlations (using the substitutions: $\\mathit{Nu} \\rightarrow \\mathit{Sh}$, $\\mathit{Re} \\rightarrow \\mathit{Re}$ and $\\mathit{Pr} \\rightarrow \\mathit{Sc}$). This is highly useful, first because heat transfer is much more widely studied than mass transfer, and second because the heat transfer experiments are significantly easier to perform than mass transfer experiments. The Nusselt number semi-empirical correlations often come in a polynomial form similar to\n",
    "\\begin{equation*}\n",
    "\\mathit{Nu} \\approxeq C \\mathit{Re}^m \\mathit{Sc}^{1/3} ,\n",
    "\\end{equation*}\n",
    "but more complicated rational polynomials are not uncommon.\n",
    "They are fit to experimental heat-transfer data that is related to mass transfer through the [Chilton-Colburn analogy](https://en.wikipedia.org/wiki/Chilton_and_Colburn_J-factor_analogy)."
   ]
  },
  {
   "cell_type": "markdown",
   "id": "f0f31516-595b-4e8c-8941-670184d99d69",
   "metadata": {},
   "source": [
    "## Catalyst\n",
    "This specifically refers to the geometric properties of the catalyst pellet such as its packed void fraction and surface properties including surface area, pore volume and pore radius.  \n",
    "The void fraction, $\\varepsilon_{\\mathrm{void}}$, is simply the volume in the reactor that is not occupied by the catalyst pellets normalized by the total reactor volume. It is important because a given flow rate will flow through an open pipe more slowly than it will through the voids of a packed bed. These two velocities are referred to as 'superficial' velocity, $u_{\\mathrm{sup.}}$, and 'interstitial' velocity, $u$. And  \n",
    "\\begin{equation}\n",
    "\\varepsilon_{\\mathrm{void}} u = u_{\\mathrm{sup.}}\n",
    "\\end{equation}\n",
    "For spherical pellets of equal size the packing of pellets is well studied. The minimum void fraction is given by spherical close packing and the maximum by lowest-density jammed packing: $0.26 \\le \\varepsilon_{\\mathrm{void}}^{\\mathrm{sphere}} \\le 0.51$ with typical values for irregular packing of $\\varepsilon_{\\mathrm{void}}^{\\mathrm{sphere}} \\approx 0.36$. For cylinders of equal size, the packing will depend on the aspect ratio of the cylinder. For $L/D = 1$, the experimentally observed range is $0.29 \\le \\varepsilon_{\\mathrm{void}}^{\\mathrm{cylinder}} \\le 0.40$ with typical values of $\\varepsilon_{\\mathrm{void}}^{\\mathrm{cylinder}} \\approx 0.35$; and for $L/D = 2$, typical values are $\\varepsilon_{\\mathrm{void}}^{\\mathrm{cylinder}} \\approx 0.40$.\n",
    "\n",
    "The properties of $A_{\\mathrm{cat.}}$, $V_{\\mathrm{pore}}$ and $r_{\\mathrm{pore}}$,\n",
    "are unique in that there is no theory contributing to the modeling of the ethylene-oxide reactor. However, the experiment that determines these properties does rely on theory. Interestingly, the theory in the experiment requires simplifying assumptions in order to facilitate a linear inference of these 'measured' properties.  \n",
    "For the theory, worked examples & experimental data see the separate [notebook on BET](BET-Nonideal.ipynb)."
   ]
  },
  {
   "cell_type": "markdown",
   "id": "68531cfa-f8f5-419f-99d9-7bfdfc167659",
   "metadata": {},
   "source": [
    "# Comments About Pedagogical V/UQ"
   ]
  },
  {
   "cell_type": "markdown",
   "id": "496c0c53-5640-46f2-9e18-158f520dbc68",
   "metadata": {},
   "source": [
    "- There is an element of \"hide and seek\" here.\n",
    "- For the creator of the pedagogical physical reality there is more insight into the sources of uncertainty.\n",
    "- The biases are always a result of higher-fidelity modeling or obscure model form.\n",
    "- There are much more sources of bias than there are scatter (a.k.a. noise). *Having said that, I think it will be wiser to account for uncertainties into likelihood scale rather than bias correction.*\n",
    "- May be worth exploring if additional bricks are necessary in the hierarchy.\n",
    "- There is a definite interest in screening & dimension reduction.\n",
    "- Is it worth the effort to extend the example to include the cost of additional experiments in the design?"
   ]
  },
  {
   "cell_type": "markdown",
   "id": "ca9fc474-f27d-4edc-aac0-38e64496d9b3",
   "metadata": {
    "tags": []
   },
   "source": [
    "# I/U Map\n",
    "\n",
    "| Sub-model/Expt.      | Parameter Name                                      | Symbol                        | Units              | Nominal Value(s)                          | Uncertainty             | Expected Impact |\n",
    "| -------------------- | :-------------------------------------------------: | :---------------------------: | :----------------: | :---------------------------------------: | :---------------------: | :-------------: |\n",
    "| Thermodynamics       | gas constant                                        | $R$                           | m$^3$ Pa / (K mol) | $8.31446$                                 | $2 \\times 10^{-6}$      | None to Small   |\n",
    "|                      | pressure *(also an operating condition)*            | $P_{\\mathrm{rxr}}$            | Pa                 | $[1.0-3.0] \\times 10^5$                   | $3\\%$                   | Small           |\n",
    "|                      | temperature *(in, also an operating condition)*     | $T_{\\mathrm{rxr}}$            | K                  | $[453-503]$                               | $3^{\\circ}$             | Small           |\n",
    "| Species              | elemental molar masses (4)                          | $M_{\\mathrm{el}, i}$          | g / mol            | [$12.01$, $1.01$, $16.00$, $14.01$]       | $0.1\\%$                 | None to Small   |\n",
    "| Transport            | viscosity, *molecular*                              | $\\mu$                         | kg / (s m)         | $2.6 \\times 10^{-5}$                      | $5\\%$                   | Small           |\n",
    "|                      | diffusion coefficients, *molecular*                 | $D_i$                         | m$^2$ / s          | $[1.5-3.5] \\times 10^{-5}$                | $50\\%$                  | Medium to Large |\n",
    "| Rxn. kinetics        | rate coefficients (2-3 depending)                   | $k_{\\alpha}$                  | mol / (s m$^2$)    | *see individual model*                    | *should be positive*    | **Large**       |\n",
    "|                      | rxn. order (per reactant, per rxn.)                 | $n_{\\alpha}$                  | -                  | *see individual model*                    | *positive, rarely $>5$* | **Large**       |\n",
    "|                      | adsorption coefficients (2-6 depending)             | $K_{i, \\alpha}$               | 1 / bar            | *see individual model*                    | *should be positive*    | **Large**       |\n",
    "| Turbulence           | bed Nusselt number correlation params. (2-4)        | $c$, $n$ (dep.)               | —                  | $c = 2.06$, $n = 0.575$                   | $20\\%$                  | Small to Medium |\n",
    "| Surface expts.       | saturation pressure of experimental adsorbate       | $P_{\\mathrm{sat.}}$           | bar                |                                           |                         |                 |\n",
    "|                      | experimental pressures (2-5)                        | $P_{\\mathrm{expt.}}$          | bar                |                                           |                         |                 |\n",
    "|                      | experimental temperature                            | $T_{\\mathrm{expt.}}$          | K                  |                                           |                         |                 |\n",
    "|                      | experimental number adsorbed (2-5)                  | $n_{\\mathrm{ad.}}$            | mol                |                                           |                         |                 |\n",
    "| Catalyst             | mass density                                        | $\\rho_{\\mathrm{cat.}}$        | kg / m$^3$         | $285$                                     | $1\\%$                   | Small to Medium |\n",
    "|                      | specific surface area (w/ pores)                    | $a^{\\mathrm{cat.}}$           | m$^2$ / kg         | $0.8 \\times 10^3$                         | $10\\%$                  | Medium          |\n",
    "|                      | pellet characteristic size (macro)                  | $D_{\\mathrm{pellet}}$         | m                  | $1.0 \\times 10^{-2}$                      | $20\\%$                  | Small           |\n",
    "|                      | packed-catalyst void fraction in reactor            | $\\varepsilon_{\\mathrm{void}}$ | —                  | $0.75$                                    | $15\\%$                  | Small to Medium |\n",
    "|                      | pore diameter                                       | $D_{\\mathrm{pore}}$           | m                  | $2 \\times 10^{-6}$                        | $25\\%$                  | Medium          |\n",
    "|                      | pore length                                         | $L_{\\mathrm{pore}}$           | m                  | $1 \\times 10^{-3}$                        | $25\\%$                  | Medium          |\n",
    "| Reactor              | length                                              | $L_{\\mathrm{rxr}}$            | m                  | pilot rxr: $3.0$,  industrial rxr: $12.8$ | $1\\%$                   | Small           |\n",
    "|                      | radius                                              | $r_{\\mathrm{rxr}}$            | m                  | $1.96 \\times 10^{-2}$                     | $1\\%$                   | Small           |\n",
    "| Operating conditions | molar feed ($\\ce{C_2H_4}$, $\\ce{O_2}$ & $\\ce{N_2}$) | $\\dot{n}_{i, \\mathrm{in}}$    | kmol / hr          | $80.5$, $91.5$, $1274$                    | $10\\%$                  | Small to Medium |"
   ]
  },
  {
   "cell_type": "code",
   "execution_count": null,
   "id": "8052ef67-b8e1-437d-9231-07045eacc8e4",
   "metadata": {},
   "outputs": [],
   "source": []
  }
 ],
 "metadata": {
  "kernelspec": {
   "display_name": "Python 3 (ipykernel)",
   "language": "python",
   "name": "python3"
  },
  "language_info": {
   "codemirror_mode": {
    "name": "ipython",
    "version": 3
   },
   "file_extension": ".py",
   "mimetype": "text/x-python",
   "name": "python",
   "nbconvert_exporter": "python",
   "pygments_lexer": "ipython3",
   "version": "3.9.13"
  },
  "toc-autonumbering": false,
  "toc-showcode": false,
  "toc-showmarkdowntxt": false,
  "toc-showtags": false
 },
 "nbformat": 4,
 "nbformat_minor": 5
}
